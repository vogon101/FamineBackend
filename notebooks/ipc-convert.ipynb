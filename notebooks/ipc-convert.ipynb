{
 "cells": [
  {
   "cell_type": "code",
   "execution_count": 24,
   "metadata": {
    "scrolled": true
   },
   "outputs": [],
   "source": [
    "import numpy as np\n",
    "import matplotlib.pyplot as plt\n",
    "import pandas as pd\n",
    "import csv\n",
    "import pystan\n",
    "import ruptures as rpt\n",
    "import ruptures as rpt\n",
    "import datetime as dt\n",
    "import math\n",
    "import scipy.special"
   ]
  },
  {
   "cell_type": "code",
   "execution_count": 2,
   "metadata": {
    "scrolled": true
   },
   "outputs": [
    {
     "name": "stderr",
     "output_type": "stream",
     "text": [
      "C:\\Users\\Justin\\Anaconda3\\lib\\site-packages\\ipykernel_launcher.py:37: UserWarning: Boolean Series key will be reindexed to match DataFrame index.\n"
     ]
    }
   ],
   "source": []
  },
  {
   "cell_type": "code",
   "execution_count": 46,
   "metadata": {
    "scrolled": true
   },
   "outputs": [],
   "source": [
    "def get_days(t1, t2):\n",
    "    y1, y2 = int(t1), int(t2)\n",
    "    if(y1 == y2):\n",
    "        return int((t2-t1)*(366 if y2%4==0 else 365))\n",
    "    else:\n",
    "        return (366-274)\n",
    "def get_prev_quarter(t):\n",
    "    year = t//1\n",
    "    days = int(round((t-year) * (366 if year%4==0 else 365)))\n",
    "    if(days == 90 or days == 91):\n",
    "        return year\n",
    "    elif(days == 181):\n",
    "        return year + 90/365\n",
    "    elif(days == 182):\n",
    "        return year + 91/366\n",
    "    elif(days == 273):\n",
    "        return year + 181/365\n",
    "    elif(days == 274):\n",
    "        return year + 182/366\n",
    "    elif(days == 0):\n",
    "        return ((year-1)+274/366) if ((year-1)%4==0) else ((year-1) + 273/365)\n",
    "    else:\n",
    "        print(days, t)\n",
    "\n",
    "def smooth_trend(a, n):\n",
    "    vals = []\n",
    "    for i in range(len(a)):\n",
    "        window = a[max(i-n,0):min(i+n+1, len(a))]\n",
    "        vals.append(sum(window)/len(window))\n",
    "    return np.array(vals)\n",
    "\n",
    "'''\n",
    "def get_temp_feature(temp_df):\n",
    "    if(len(temp_df)<20):\n",
    "        return 0\n",
    "    else:\n",
    "        temps = temp_df.Temperature.values\n",
    "        dates = temp_df.Date.values\n",
    "        smoothed = smooth_trend(temps, 5)\n",
    "        diffed = np.diff(smoothed,1)\n",
    "        algo = rpt.Pelt(model='rbf', min_size=5).fit(diffed)\n",
    "        result = algo.predict(pen=5)\n",
    "        if(len(result)!=1):\n",
    "            return (smoothed[result[-1]]-smoothed[result[-2]]) / smoothed[result[-2]]#/ (dates[result[-1]] - dates[result[-2]])\n",
    "        else:\n",
    "            return 0\n",
    "'''\n",
    "def get_temp_feature(temp_df):\n",
    "    if(len(temp_df)==0):\n",
    "        return np.mean(trimmed_weather_df.Temperature.values)\n",
    "    return np.mean(temp_df.Temperature.values)\n",
    "def get_price_feature(food_df):\n",
    "    return np.mean(food_df.Price.values/1e6)\n",
    "'''\n",
    "\n",
    "def get_price_feature(food_df):\n",
    "    prices = food_df.Price.values\n",
    "    dates = food_df.Date.values\n",
    "    nVals = len(dates)\n",
    "    if(nVals == 0):\n",
    "        return 0.\n",
    "    minD = minP = 1e10\n",
    "    maxD = maxP = -1e10\n",
    "    for i in range(nVals):\n",
    "        (minD, minP) = (dates[i], prices[i]) if prices[i] < minP else (minD, minP)\n",
    "        (maxD, maxP) = (dates[i], prices[i]) if prices[i] > maxP else (maxD, maxP)\n",
    "    if(maxD == minD):\n",
    "        return 0.\n",
    "    else:\n",
    "        #return  (maxP - minP) / (maxD - minD)# * (max(maxD, minD) - min(dates)) / (max(dates)-min(dates)) \n",
    "        if(maxD > minD):\n",
    "            return (maxP-minP)/minP * (max(maxD, minD) - min(dates)) / (max(dates)-min(dates)) \n",
    "        else:\n",
    "            return (minP-maxP)/maxP * (max(maxD, minD) - min(dates)) / (max(dates)-min(dates)) \n",
    "\n",
    "def get_fews_feature(food_df):\n",
    "    prices = food_df.Price.values\n",
    "    dates = food_df.Date.values\n",
    "    nVals = len(dates)\n",
    "    minD = minP = 1e10\n",
    "    maxD = maxP = -1e10\n",
    "    for i in range(nVals):\n",
    "        (minD, minP) = (dates[i], prices[i]) if prices[i] < minP else (minD, minP)\n",
    "        (maxD, maxP) = (dates[i], prices[i]) if prices[i] > maxP else (maxD, maxP)\n",
    "    if(maxD == minD):\n",
    "        return 0.\n",
    "    else:\n",
    "        return  (maxP - minP) / (maxD - minD)# * (max(maxD, minD) - min(dates)) / (max(dates)-min(dates)) \n",
    "'''        \n",
    "#Constants:\n",
    "WANTEDPRODUCTS = {'Rice (imported) - Retail':0, 'Maize (white) - Retail':1, 'Sorghum (red) - Retail':2}\n",
    "#WANTEDPRODUCTS = {'Maize (white) - Retail':1}\n",
    "WANTEDFEWSFOOD = {'Cowpeas (Red)'}\n",
    "#WANTEDSTATIONS = {'EGAL INTL':0, 'MOGADISHU': 1, 'BOSASO':2}\n",
    "WANTEDSTATIONS = {'EGAL INTL':0}\n",
    "\n",
    "\n",
    "\n",
    "def strdate(s):\n",
    "    date = dt.datetime.strptime(s, '%d %B %Y')\n",
    "    year = date.date().year\n",
    "    return year + (date.date().timetuple().tm_yday-1)/ (366 if year%4==0 else 365)\n",
    "\n",
    "def applyProductMap(s):\n",
    "    return WANTEDPRODUCTS[str(s)]\n",
    "\n",
    "\n",
    "def dateToFloat(d):\n",
    "    year= d//10000\n",
    "    mo = (d%10000)//100 - 1\n",
    "    day = d%100 - 1\n",
    "    if(year%4==0):\n",
    "        return year+(LEAPS[mo]+day)/366\n",
    "    else:\n",
    "        return year+(MONTHS[mo]+day)/365\n",
    "    \n",
    "def applyStationMap(s):\n",
    "    return WANTEDSTATIONS[str(s)]"
   ]
  },
  {
   "cell_type": "code",
   "execution_count": 139,
   "metadata": {
    "scrolled": true
   },
   "outputs": [
    {
     "name": "stderr",
     "output_type": "stream",
     "text": [
      "INFO:pystan:COMPILING THE C++ CODE FOR MODEL famine_model_590573dd2dc8da7b70d5cd086cb54437 NOW.\n"
     ]
    }
   ],
   "source": [
    "famine_model_code = '''\n",
    "data {\n",
    "    int<lower=0> N;\n",
    "    int<lower=0> K;\n",
    "    matrix[N, K] feats;\n",
    "    vector[N] response;\n",
    "}\n",
    "parameters{\n",
    "    real alpha;\n",
    "    real<lower=0> beta;\n",
    "    vector[K] coeffs;\n",
    "    real<lower=0> sigma;\n",
    "}\n",
    "model {\n",
    "    response[2:N] ~ lognormal(alpha + beta*response[1:(N-1)] + (feats[2:N])*coeffs, sigma);\n",
    "    coeffs ~ normal(0, 1);\n",
    "    beta ~ normal(1,1);\n",
    "    alpha ~ normal(0,1);\n",
    "}'''\n",
    "\n",
    "new_famine_model = pystan.StanModel(model_code= famine_model_code, model_name=\"famine_model\")"
   ]
  },
  {
   "cell_type": "code",
   "execution_count": 125,
   "metadata": {
    "scrolled": true
   },
   "outputs": [
    {
     "name": "stderr",
     "output_type": "stream",
     "text": [
      "INFO:pystan:COMPILING THE C++ CODE FOR MODEL mult_model_cd7ae9607f799d4ec0bc8fce91e3c2c4 NOW.\n"
     ]
    }
   ],
   "source": [
    "mult_model_code = '''\n",
    "data {\n",
    "    int<lower=0> N;\n",
    "    int<lower=0> K;\n",
    "    matrix[N, K] feats;\n",
    "    vector[N] response;\n",
    "}\n",
    "parameters{\n",
    "    real alpha;\n",
    "    real beta;\n",
    "    vector[K] coeffs;\n",
    "    real<lower=0> sigma;\n",
    "}\n",
    "model{\n",
    "    vector[N] mults;\n",
    "    mults[2:N] = beta*response[1:(N-1)];\n",
    "    for (i in 1:K) {\n",
    "        mults[2:N] = mults[2:N].*(1+coeffs[i]*feats[2:N,i]);\n",
    "    }\n",
    "    response[2:N] ~ normal(alpha + mults[2:N], sigma);\n",
    "}'''\n",
    "mult_model = pystan.StanModel(model_code= mult_model_code, model_name=\"mult_model\")"
   ]
  },
  {
   "cell_type": "code",
   "execution_count": 32,
   "metadata": {
    "scrolled": true
   },
   "outputs": [
    {
     "name": "stderr",
     "output_type": "stream",
     "text": [
      "INFO:pystan:COMPILING THE C++ CODE FOR MODEL beta_model_8ea23b79f37f28f3834d00c4c1a09eb9 NOW.\n"
     ]
    }
   ],
   "source": [
    "beta_model_code = '''\n",
    "data {\n",
    "    int<lower=0> N;\n",
    "    int<lower=0> K;\n",
    "    matrix[N,K] feats;\n",
    "    vector[N] response;\n",
    "}\n",
    "\n",
    "parameters{\n",
    "    real alpha;\n",
    "    real beta;\n",
    "    real<lower=0> kappa;\n",
    "    vector[K] coeffs;\n",
    "}\n",
    "\n",
    "model{\n",
    "    vector[N] mus;\n",
    "    mus[2:N] = inv_logit(alpha + beta*response[1:(N-1)] +feats[2:N]*coeffs);\n",
    "    response[2:N] ~ beta_proportion(mus[2:N], kappa);\n",
    "}\n",
    "'''\n",
    "beta_model = pystan.StanModel(model_code=beta_model_code, model_name=\"beta_model\")"
   ]
  },
  {
   "cell_type": "code",
   "execution_count": 48,
   "metadata": {
    "scrolled": false
   },
   "outputs": [
    {
     "name": "stdout",
     "output_type": "stream",
     "text": [
      "[0.014333333333333332, 0.009, 0.008666666666666666, 0.02783333333333333, 1.2391304347826086, 74.7414150129422]\n",
      "[0.014, 0.009, 0.008, 0.019166666666666665, -1.9555555555555555, 74.7414150129422]\n",
      "[0.015300000000000001, 0.01255, 0.008, 0.02993333333333333, -3.522222222222222, 76.56666666666666]\n",
      "[0.015333333333333332, 0.010666666666666666, 0.008666666666666668, 0.029333333333333333, -0.4945054945054945, 80.048]\n",
      "[0.017666666666666667, 0.013638999999999998, 0.010866666666666669, 0.03233333333333333, 0.532608695652174, 71.91829268292682]\n",
      "[0.016866666666666665, 0.014726666666666666, 0.016, 0.04238333333333333, -0.48314606741573035, 71.8590361445783]\n",
      "[0.01783766666666667, 0.015846166666666668, 0.021462666666666668, 0.057333333333333326, -1.1538461538461537, 80.18777777777778]\n",
      "[0.017194333333333336, 0.014417, 0.02369, 0.056666666666666664, -1.3516483516483517, 77.75217391304349]\n",
      "[0.017750000000000002, 0.010208333333333333, 0.01375, 0.03195, 1.0108695652173914, 71.21304347826087]\n",
      "[0.016825, 0.009138833333333334, 0.009566666666666666, 0.0305, -1.4719101123595506, 70.78222222222223]\n",
      "[0.017199999999999997, 0.007666666666666666, 0.006000000000000001, 0.027333333333333334, -2.142857142857143, 78.21460674157304]\n",
      "[0.015466666666666665, 0.006263333333333333, 0.004333333333333334, 0.0242, -0.5274725274725275, 77.71910112359551]\n",
      "[0.012020000000000001, 0.005733333333333333, 0.005333333333333333, 0.020666666666666667, 0.8586956521739131, 72.3578313253012]\n",
      "[0.013266666666666664, 0.007166666666666666, 0.007333333333333333, 0.021333333333333333, -0.9325842696629213, 72.58777777777779]\n",
      "[0.013466666666666667, 0.009333333333333332, 0.009666666666666665, 0.025666666666666667, -0.8681318681318682, 80.23793103448277]\n",
      "[0.0143, 0.0105, nan, 0.033800000000000004, -0.4725274725274725, 77.57118644067796]\n"
     ]
    },
    {
     "name": "stderr",
     "output_type": "stream",
     "text": [
      "WARNING:pystan:28 of 6000 iterations ended with a divergence (0.467 %).\n",
      "WARNING:pystan:Try running with adapt_delta larger than 0.8 to remove the divergences.\n"
     ]
    },
    {
     "name": "stdout",
     "output_type": "stream",
     "text": [
      "Inference for Stan model: beta_model_8ea23b79f37f28f3834d00c4c1a09eb9.\n",
      "4 chains, each with iter=3000; warmup=1500; thin=1; \n",
      "post-warmup draws per chain=1500, total post-warmup draws=6000.\n",
      "\n",
      "             mean se_mean     sd   2.5%    25%    50%    75%  97.5%  n_eff   Rhat\n",
      "alpha        1.15    0.09   3.82  -6.42  -1.24    1.1   3.59   8.93   1904    1.0\n",
      "beta      -9.6e-4     0.1   4.27  -8.44  -2.68  -0.05   2.56   8.85   1661    1.0\n",
      "kappa       70.73    0.87  34.72  20.82   44.8   64.4  90.66 149.58   1603    1.0\n",
      "coeffs[1]   83.47    3.87 162.56 -251.1  -15.1  85.96 183.13 408.46   1762    1.0\n",
      "coeffs[2]   49.41    2.39 101.58 -150.7 -13.47  47.03  112.3  258.4   1803    1.0\n",
      "coeffs[3]  -56.96     1.7   79.8 -216.5 -106.8 -54.79  -6.52 103.32   2196    1.0\n",
      "coeffs[4]   64.27    1.05  50.81 -33.78  32.04  62.91  96.02 168.05   2347    1.0\n",
      "coeffs[5]     0.1  2.0e-3   0.11  -0.12   0.04    0.1   0.17    0.3   2734    1.0\n",
      "coeffs[6]   -0.08  1.0e-3   0.05  -0.18  -0.11  -0.08  -0.05   0.02   2136    1.0\n",
      "lp__        24.53    0.09    3.0  17.64  22.72   25.0  26.76  29.04   1173    1.0\n",
      "\n",
      "Samples were drawn using NUTS at Fri Feb 21 13:17:12 2020.\n",
      "For each parameter, n_eff is a crude measure of effective sample size,\n",
      "and Rhat is the potential scale reduction factor on split chains (at \n",
      "convergence, Rhat=1).\n",
      "[1.154429275065794, -0.0009631011541964369, 70.73348510911276, 83.4735638969554, 49.40665976282921, -56.96011349154566, 64.27088245803237, 0.10149046231956706, -0.07968716191780074]\n"
     ]
    },
    {
     "data": {
      "image/png": "[encoded data removed]",
      "text/plain": [
       "<Figure size 432x288 with 1 Axes>"
      ]
     },
     "metadata": {
      "needs_background": "light"
     },
     "output_type": "display_data"
    }
   ],
   "source": [
    "REGION = \"Hiraan\"\n",
    "STARTTIME = 2016\n",
    "PHASE = 3\n",
    "#Transform food data:\n",
    "food_df = pd.read_csv('data/food.csv', usecols = [0,1,3,4])\n",
    "food_df = food_df[food_df.Region.eq(REGION) & food_df.Date.ge(STARTTIME-1) & food_df.Item.isin(WANTEDPRODUCTS)]\n",
    "food_df['ItemID'] = food_df['Item'].apply(applyProductMap)\n",
    "trimmed_food_df = food_df[['Date', 'ItemID', 'Price']]\n",
    "\n",
    "#Extract FEWSNET food data\n",
    "ffood_df = pd.read_csv('data/fews_food.csv')\n",
    "ffood_df = ffood_df[ffood_df.date.ge(STARTTIME-1) & ffood_df.item.isin(WANTEDFEWSFOOD) & ffood_df.region.eq(REGION)]\n",
    "ffood_df = ffood_df.rename(columns = {'price': 'Price', 'date':'Date'})\n",
    "\n",
    "#Extract conflict data\n",
    "conflict_df = pd.read_csv(\"data/conflict.csv\")\n",
    "conflict_df = conflict_df[['event_date', 'admin1', 'fatalities']].rename(columns={'admin1':'region'})\n",
    "conflict_df['date'] = conflict_df.event_date.apply(strdate)\n",
    "trimmed_conflict_df = conflict_df[conflict_df.date.ge(STARTTIME-1) & conflict_df.region.eq(REGION)][['date','region','fatalities']]\n",
    "#trimmed_conflict_df =conflict_df\n",
    "\n",
    "#Extract IPC data\n",
    "ipc_df = pd.read_csv('data/ipc-5y.csv')\n",
    "trimmed_ipc_df = ipc_df[ipc_df.time.ge(STARTTIME) & ipc_df.region.eq(REGION)]\n",
    "\n",
    "#Extract weather data\n",
    "weather_df = pd.read_csv('data/climate-complete-noaa.csv', usecols = [0,3,4])\n",
    "weather_df = weather_df[weather_df['Station Name'].isin(WANTEDSTATIONS)]\n",
    "weather_df['Date'] = weather_df['Date'].apply(dateToFloat)\n",
    "weather_df = weather_df[weather_df.Date.ge(STARTTIME-1)]\n",
    "weather_df['Station Name'] = weather_df['Station Name'].apply(applyStationMap)\n",
    "trimmed_weather_df = weather_df.rename(columns={'Station Name':'Station', 'Mean Temperature':'Temperature'})\n",
    "\n",
    "dates = sorted(list(set(trimmed_ipc_df.time.values)))\n",
    "\n",
    "datasets = dict()\n",
    "for date in dates:\n",
    "    prev_q = get_prev_quarter(date)\n",
    "    dataset = dict()\n",
    "    features = []\n",
    "    dataset['ipc']= trimmed_ipc_df.loc[trimmed_ipc_df.time.eq(date), ['p2perc', 'p3perc', 'p4perc','idp_pop']].to_dict('records')\n",
    "    \n",
    "    \n",
    "    #features.append(np.mean(trimmed_ipc_df.loc[trimmed_ipc_df.time.eq(date), ['idp_pop']].values)/1e6)\n",
    "    food_data = dict()\n",
    "    for i in range(len(WANTEDPRODUCTS)):\n",
    "        food_data[i] = trimmed_food_df[trimmed_food_df.Date.ge(prev_q) & trimmed_food_df.Date.lt(date) & trimmed_food_df.ItemID.eq(i)][['Date','ItemID', 'Price']]\n",
    "        features.append(get_price_feature(food_data[i]))\n",
    "        #features.append(lst_sq(food_data[i])[0])\n",
    "        #features.append(lst_sq(food_data[i])[1])\n",
    "    \n",
    "    fews_data = dict()\n",
    "    for food in WANTEDFEWSFOOD:\n",
    "        food_data[food] = ffood_df[ffood_df.Date.ge(prev_q) & ffood_df.Date.lt(date) & ffood_df.item.eq(food)]\n",
    "        features.append(get_price_feature(food_data[food]))\n",
    "        #features.append(lst_sq(food_data[food])[0])\n",
    "        #features.append(lst_sq(food_data[food])[1])\n",
    "    \n",
    "    dataset['food'] = food_data\n",
    "    \n",
    "    conflict_data = trimmed_conflict_df[trimmed_conflict_df.date.ge(prev_q)&trimmed_conflict_df.date.lt(date)]\n",
    "    features.append(np.sum(conflict_data.fatalities.values)/get_days(date,prev_q))\n",
    "    \n",
    "    dataset['conflict'] = conflict_data\n",
    "    \n",
    "    weather_data = dict()\n",
    "    for i in range(len(WANTEDSTATIONS)):\n",
    "        weather_data[i] = trimmed_weather_df[trimmed_weather_df.Date.ge(prev_q) & trimmed_weather_df.Date.lt(date) & trimmed_weather_df.Station.eq(i)][['Date','Temperature']]\n",
    "        #features['t{}'.format(i)]=get_temp_feature(weather_data[i])\n",
    "        features.append(get_temp_feature(weather_data[i]))\n",
    "    dataset['weather']=weather_data\n",
    "    dataset['features']=features\n",
    "    print(dataset['features'])\n",
    "    datasets[date] = dataset\n",
    "    \n",
    "    \n",
    "train_dates =sorted(list (datasets.keys()))[:-2]\n",
    "nFeatures = len(datasets[train_dates[0]]['features'])\n",
    "features = [datasets[date]['features'] for date in train_dates]\n",
    "idp_pops = [datasets[date]['ipc'][0]['idp_pop'] for date in train_dates]\n",
    "\n",
    "response = [datasets[date]['ipc'][0]['p{}perc'.format(PHASE)] for date in train_dates]\n",
    "famine_model_data = dict(\n",
    "    N = len(train_dates),\n",
    "    K = nFeatures,\n",
    "    feats = features,\n",
    "    #idp_pop = idp_pops,\n",
    "    response = response\n",
    ")\n",
    "\n",
    "\n",
    "result = beta_model.sampling(data=famine_model_data, iter=3000, control = dict(max_treedepth=12, adapt_delta=0.8))\n",
    "print(result)\n",
    "\n",
    "#coeffs = list(map(lambda x: sum(x)/len(x), result.get_posterior_mean()[:nFeatures+2]))\n",
    "coeffs = list(map(lambda x: sum(x)/len(x), result.get_posterior_mean()[:nFeatures+3]))\n",
    "print(coeffs)\n",
    "def generate(coeffs, datasets):\n",
    "    times = sorted(list(datasets.keys()))\n",
    "    pred_ipc = []\n",
    "    \n",
    "    for (i,time) in enumerate(times):\n",
    "        new_ipc = scipy.special.expit(coeffs[0]+sum(np.multiply(coeffs[2:], datasets[time]['features'])))\n",
    "        pred_ipc.append(new_ipc)\n",
    "    return pred_ipc\n",
    "\n",
    "def generate_ar(coeffs, datasets):\n",
    "    times = sorted(list(datasets.keys()))\n",
    "    pred_ipc = [datasets[times[0]]['ipc'][0]['p{}perc'.format(PHASE)]]\n",
    "    for time in times[1:]:\n",
    "        new_ipc = scipy.special.expit(coeffs[0]+pred_ipc[-1]*coeffs[1]+sum(np.multiply(coeffs[3:], datasets[time]['features'])))\n",
    "        pred_ipc.append(new_ipc)\n",
    "    return pred_ipc\n",
    "    \n",
    "times = sorted(list(datasets.keys()))\n",
    "gold_ipcs = [datasets[date]['ipc'][0]['p{}perc'.format(PHASE)] for date in times]\n",
    "pred_ipcs = generate_ar(coeffs, datasets)\n",
    "plt.plot(times, gold_ipcs, marker='o', color='gold')\n",
    "plt.plot(times,pred_ipcs, marker='+', color='red')\n",
    "plt.show()"
   ]
  },
  {
   "cell_type": "code",
   "execution_count": 11,
   "metadata": {
    "scrolled": true
   },
   "outputs": [
    {
     "data": {
      "text/plain": [
       "[-2.169120850656,\n",
       " 202865089739.8046,\n",
       " 13.754735282356265,\n",
       " 2.0454572548496737,\n",
       " -0.8215122039650802,\n",
       " 0.7494141264550314,\n",
       " 0.8667114096546427,\n",
       " 0.18088273467382085,\n",
       " 0.007799394286873428]"
      ]
     },
     "execution_count": 11,
     "metadata": {},
     "output_type": "execute_result"
    }
   ],
   "source": [
    "coeffs"
   ]
  },
  {
   "cell_type": "code",
   "execution_count": 22,
   "metadata": {
    "scrolled": true
   },
   "outputs": [
    {
     "data": {
      "image/png": "[encoded data removed]",
      "text/plain": [
       "<Figure size 432x288 with 1 Axes>"
      ]
     },
     "metadata": {
      "needs_background": "light"
     },
     "output_type": "display_data"
    }
   ],
   "source": [
    "\n"
   ]
  }
 ],
 "metadata": {
  "kernelspec": {
   "display_name": "Python 3",
   "language": "python",
   "name": "python3"
  },
  "language_info": {
   "codemirror_mode": {
    "name": "ipython",
    "version": 3
   },
   "file_extension": ".py",
   "mimetype": "text/x-python",
   "name": "python",
   "nbconvert_exporter": "python",
   "pygments_lexer": "ipython3",
   "version": "3.7.4"
  }
 },
 "nbformat": 4,
 "nbformat_minor": 2
}
